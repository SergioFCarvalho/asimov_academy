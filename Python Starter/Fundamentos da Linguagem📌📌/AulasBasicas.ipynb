{
 "cells": [
  {
   "cell_type": "markdown",
   "id": "b056fbe4-1a9b-4093-861f-31566631af99",
   "metadata": {},
   "source": [
    "## - > Aula números"
   ]
  },
  {
   "cell_type": "code",
   "execution_count": 6,
   "id": "dd8566a3-3a87-4bec-b39b-17971aa2a0d3",
   "metadata": {},
   "outputs": [
    {
     "data": {
      "text/plain": [
       "5"
      ]
     },
     "execution_count": 6,
     "metadata": {},
     "output_type": "execute_result"
    }
   ],
   "source": [
    "2+3"
   ]
  },
  {
   "cell_type": "code",
   "execution_count": 8,
   "id": "4e28add7-a8fd-4a81-a0ec-788441ce86c1",
   "metadata": {},
   "outputs": [
    {
     "data": {
      "text/plain": [
       "6"
      ]
     },
     "execution_count": 8,
     "metadata": {},
     "output_type": "execute_result"
    }
   ],
   "source": [
    "10 - 4"
   ]
  },
  {
   "cell_type": "code",
   "execution_count": 9,
   "id": "2bd388f1-66bf-42ef-884e-bcfa9d4f8653",
   "metadata": {},
   "outputs": [
    {
     "data": {
      "text/plain": [
       "60"
      ]
     },
     "execution_count": 9,
     "metadata": {},
     "output_type": "execute_result"
    }
   ],
   "source": [
    "20 * 3 "
   ]
  },
  {
   "cell_type": "code",
   "execution_count": 10,
   "id": "fe429fe1-e508-43cb-a882-7850551aabd4",
   "metadata": {},
   "outputs": [
    {
     "data": {
      "text/plain": [
       "5.0"
      ]
     },
     "execution_count": 10,
     "metadata": {},
     "output_type": "execute_result"
    }
   ],
   "source": [
    "40 / 8 "
   ]
  },
  {
   "cell_type": "code",
   "execution_count": 11,
   "id": "c5497c20-a8ee-4682-9f7b-6b8276d1342b",
   "metadata": {},
   "outputs": [
    {
     "data": {
      "text/plain": [
       "16"
      ]
     },
     "execution_count": 11,
     "metadata": {},
     "output_type": "execute_result"
    }
   ],
   "source": [
    "4 ** 2 "
   ]
  },
  {
   "cell_type": "code",
   "execution_count": 12,
   "id": "6c7f2bc9-eeab-42a1-8db7-0c9271773963",
   "metadata": {},
   "outputs": [
    {
     "data": {
      "text/plain": [
       "2.0"
      ]
     },
     "execution_count": 12,
     "metadata": {},
     "output_type": "execute_result"
    }
   ],
   "source": [
    "4 ** (1/2)"
   ]
  },
  {
   "cell_type": "markdown",
   "id": "45a44d07-6f63-4213-8cd9-9385bc934a76",
   "metadata": {},
   "source": [
    "## - > Variáveis "
   ]
  },
  {
   "cell_type": "code",
   "execution_count": 13,
   "id": "d97575ef-22e6-4926-9d1d-91337df95820",
   "metadata": {},
   "outputs": [],
   "source": [
    "a = 5 "
   ]
  },
  {
   "cell_type": "code",
   "execution_count": 14,
   "id": "993ecff8-b8b2-4584-a8c7-109932da158a",
   "metadata": {},
   "outputs": [
    {
     "data": {
      "text/plain": [
       "5"
      ]
     },
     "execution_count": 14,
     "metadata": {},
     "output_type": "execute_result"
    }
   ],
   "source": [
    "a "
   ]
  },
  {
   "cell_type": "code",
   "execution_count": 17,
   "id": "aec57d14-d539-4392-a3ce-65511a803dff",
   "metadata": {},
   "outputs": [],
   "source": [
    "nota1 = 6\n",
    "nota2 = 8\n",
    "div = 2"
   ]
  },
  {
   "cell_type": "code",
   "execution_count": 19,
   "id": "4e89645e-e894-403c-9e4f-01cf0a5e4c22",
   "metadata": {},
   "outputs": [
    {
     "data": {
      "text/plain": [
       "7.0"
      ]
     },
     "execution_count": 19,
     "metadata": {},
     "output_type": "execute_result"
    }
   ],
   "source": [
    "(nota1 + nota2) / div"
   ]
  },
  {
   "cell_type": "code",
   "execution_count": 20,
   "id": "a2f917f3-82cd-4e84-b49d-d5fa91e8bc31",
   "metadata": {},
   "outputs": [
    {
     "data": {
      "text/plain": [
       "4"
      ]
     },
     "execution_count": 20,
     "metadata": {},
     "output_type": "execute_result"
    }
   ],
   "source": [
    "a = 2\n",
    "a + a "
   ]
  },
  {
   "cell_type": "code",
   "execution_count": 21,
   "id": "94fe9d56-ecc0-4f35-9c14-1b70fb8db8ef",
   "metadata": {},
   "outputs": [
    {
     "data": {
      "text/plain": [
       "4"
      ]
     },
     "execution_count": 21,
     "metadata": {},
     "output_type": "execute_result"
    }
   ],
   "source": [
    "a ** 2"
   ]
  },
  {
   "cell_type": "code",
   "execution_count": 22,
   "id": "658ab67f-c54b-4896-be8c-54d83a0a273d",
   "metadata": {},
   "outputs": [
    {
     "data": {
      "text/plain": [
       "1"
      ]
     },
     "execution_count": 22,
     "metadata": {},
     "output_type": "execute_result"
    }
   ],
   "source": [
    "5%2"
   ]
  },
  {
   "cell_type": "code",
   "execution_count": null,
   "id": "b69fabfd-8cd6-443c-abc8-1f42ea652c4a",
   "metadata": {},
   "outputs": [],
   "source": []
  }
 ],
 "metadata": {
  "kernelspec": {
   "display_name": "Python 3 (ipykernel)",
   "language": "python",
   "name": "python3"
  },
  "language_info": {
   "codemirror_mode": {
    "name": "ipython",
    "version": 3
   },
   "file_extension": ".py",
   "mimetype": "text/x-python",
   "name": "python",
   "nbconvert_exporter": "python",
   "pygments_lexer": "ipython3",
   "version": "3.9.12"
  }
 },
 "nbformat": 4,
 "nbformat_minor": 5
}
