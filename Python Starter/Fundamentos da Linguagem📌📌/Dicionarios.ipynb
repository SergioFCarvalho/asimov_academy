{
 "cells": [
  {
   "cell_type": "markdown",
   "id": "2e573a2a-7a38-4341-a4b4-157706c6f7c9",
   "metadata": {
    "tags": []
   },
   "source": [
    " ## > Dicionários < "
   ]
  },
  {
   "cell_type": "code",
   "execution_count": 1,
   "id": "a6ef8381-0957-43e4-8aa9-564188fde1d2",
   "metadata": {},
   "outputs": [],
   "source": [
    "meu_dic = {\"nome\": \"Paulo\", \"idade\": 45, \"filhos\":{\"joão\", \"maria\"}}"
   ]
  },
  {
   "cell_type": "code",
   "execution_count": 8,
   "id": "2e0c74e1-677a-4679-a0dc-86cfa4ea1ffa",
   "metadata": {},
   "outputs": [
    {
     "data": {
      "text/plain": [
       "'Paulo'"
      ]
     },
     "execution_count": 8,
     "metadata": {},
     "output_type": "execute_result"
    }
   ],
   "source": [
    "meu_dic[\"nome\"]"
   ]
  },
  {
   "cell_type": "code",
   "execution_count": 4,
   "id": "b8b02bbc-f9e3-4826-b572-e06e30935966",
   "metadata": {},
   "outputs": [
    {
     "data": {
      "text/plain": [
       "dict_items([('nome', 'Paulo'), ('idade', 45), ('filhos', {'joão', 'maria'})])"
      ]
     },
     "execution_count": 4,
     "metadata": {},
     "output_type": "execute_result"
    }
   ],
   "source": [
    "meu_dic.items()"
   ]
  },
  {
   "cell_type": "code",
   "execution_count": 5,
   "id": "25c681ae-a8e9-4ab8-9276-f6cfa135f246",
   "metadata": {},
   "outputs": [
    {
     "data": {
      "text/plain": [
       "dict_keys(['nome', 'idade', 'filhos'])"
      ]
     },
     "execution_count": 5,
     "metadata": {},
     "output_type": "execute_result"
    }
   ],
   "source": [
    "meu_dic.keys()"
   ]
  },
  {
   "cell_type": "code",
   "execution_count": 7,
   "id": "63de524b-f73b-457d-90cd-4f83d8dfda48",
   "metadata": {},
   "outputs": [
    {
     "data": {
      "text/plain": [
       "dict_values(['Paulo', 45, {'joão', 'maria'}])"
      ]
     },
     "execution_count": 7,
     "metadata": {},
     "output_type": "execute_result"
    }
   ],
   "source": [
    "meu_dic.values()"
   ]
  },
  {
   "cell_type": "code",
   "execution_count": 10,
   "id": "94f05612-68b5-45d8-b34a-2b2012407cf4",
   "metadata": {},
   "outputs": [],
   "source": [
    "meu_dic[\"idade\"] = 33"
   ]
  },
  {
   "cell_type": "code",
   "execution_count": 12,
   "id": "efdd4428-f42b-4458-a3ef-542e92cfac5f",
   "metadata": {},
   "outputs": [],
   "source": [
    "meu_dic[\"cidade\"] = 'Recife'"
   ]
  },
  {
   "cell_type": "code",
   "execution_count": 13,
   "id": "36832225-545d-4fa0-8db2-0cb04d456448",
   "metadata": {},
   "outputs": [
    {
     "data": {
      "text/plain": [
       "{'nome': 'Paulo', 'idade': 33, 'filhos': {'joão', 'maria'}, 'cidade': 'Recife'}"
      ]
     },
     "execution_count": 13,
     "metadata": {},
     "output_type": "execute_result"
    }
   ],
   "source": [
    "meu_dic"
   ]
  },
  {
   "cell_type": "code",
   "execution_count": null,
   "id": "9662bd1e-22b4-4f6b-92c6-e68077c452da",
   "metadata": {},
   "outputs": [],
   "source": []
  }
 ],
 "metadata": {
  "kernelspec": {
   "display_name": "Python 3 (ipykernel)",
   "language": "python",
   "name": "python3"
  },
  "language_info": {
   "codemirror_mode": {
    "name": "ipython",
    "version": 3
   },
   "file_extension": ".py",
   "mimetype": "text/x-python",
   "name": "python",
   "nbconvert_exporter": "python",
   "pygments_lexer": "ipython3",
   "version": "3.9.12"
  }
 },
 "nbformat": 4,
 "nbformat_minor": 5
}
