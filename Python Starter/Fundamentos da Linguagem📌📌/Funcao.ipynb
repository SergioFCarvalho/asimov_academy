{
 "cells": [
  {
   "cell_type": "markdown",
   "id": "a0fcb7a8-0d36-40ae-b155-7708eba400e0",
   "metadata": {},
   "source": [
    "# Funções"
   ]
  },
  {
   "cell_type": "code",
   "execution_count": 1,
   "id": "6c191606-1539-4747-8799-2dde6246334c",
   "metadata": {},
   "outputs": [],
   "source": [
    "def diga_ola():\n",
    "    print(\"hello\")"
   ]
  },
  {
   "cell_type": "code",
   "execution_count": 2,
   "id": "bd216714-952d-494a-ad04-01871c5bc9d2",
   "metadata": {},
   "outputs": [
    {
     "name": "stdout",
     "output_type": "stream",
     "text": [
      "hello\n"
     ]
    }
   ],
   "source": [
    "diga_ola()"
   ]
  },
  {
   "cell_type": "code",
   "execution_count": 6,
   "id": "f29508e1-5397-42ee-a87e-c7505e2bd03a",
   "metadata": {},
   "outputs": [],
   "source": [
    "def diga_ola(nome):\n",
    "    print(f'Olá, {nome}.')"
   ]
  },
  {
   "cell_type": "code",
   "execution_count": 8,
   "id": "618c5b73-f6f3-4b21-a45e-c89a2b2026ab",
   "metadata": {},
   "outputs": [
    {
     "name": "stdout",
     "output_type": "stream",
     "text": [
      "Olá, Steve.\n"
     ]
    }
   ],
   "source": [
    "diga_ola('Steve')"
   ]
  },
  {
   "cell_type": "code",
   "execution_count": 47,
   "id": "0872c272-e2dd-40c7-8188-1af068cea696",
   "metadata": {},
   "outputs": [],
   "source": [
    "def gerador_impar(x):\n",
    "    return [i for i in range(x) if i % 2 == 1]\n",
    "#return retorna para o usuário alguma coisa."
   ]
  },
  {
   "cell_type": "code",
   "execution_count": 11,
   "id": "6602ae7e-c586-4187-b22a-ad2aeebe3be2",
   "metadata": {},
   "outputs": [
    {
     "data": {
      "text/plain": [
       "[1, 3, 5, 7, 9]"
      ]
     },
     "execution_count": 11,
     "metadata": {},
     "output_type": "execute_result"
    }
   ],
   "source": [
    "gerador_impar(11)"
   ]
  },
  {
   "cell_type": "code",
   "execution_count": 12,
   "id": "ba2d7f54-1d0e-4135-86cb-2a7b61a96c48",
   "metadata": {},
   "outputs": [],
   "source": [
    "def add_num(n1, n2):\n",
    "    return n1 + n2"
   ]
  },
  {
   "cell_type": "code",
   "execution_count": 13,
   "id": "c24c6c9a-5121-4688-8706-8f21b0f06f31",
   "metadata": {},
   "outputs": [
    {
     "data": {
      "text/plain": [
       "35"
      ]
     },
     "execution_count": 13,
     "metadata": {},
     "output_type": "execute_result"
    }
   ],
   "source": [
    "add_num(10, 25)"
   ]
  },
  {
   "cell_type": "code",
   "execution_count": 32,
   "id": "e5cc6a43-f75f-4c49-ba71-3e9995ba23dd",
   "metadata": {},
   "outputs": [],
   "source": [
    "def list_impar(x):\n",
    "    n_impar = []\n",
    "    for i in range(x):\n",
    "        if i % 2 == 1:\n",
    "            n_impar.append(i)\n",
    "    return n_impar"
   ]
  },
  {
   "cell_type": "code",
   "execution_count": 33,
   "id": "26b835c8-2ba0-4302-af7f-944d7a8ff0eb",
   "metadata": {},
   "outputs": [
    {
     "data": {
      "text/plain": [
       "[1, 3, 5, 7, 9, 11, 13]"
      ]
     },
     "execution_count": 33,
     "metadata": {},
     "output_type": "execute_result"
    }
   ],
   "source": [
    "list_impar(15)"
   ]
  },
  {
   "cell_type": "code",
   "execution_count": 49,
   "id": "fcead3d6-f0ad-41d8-979b-86d08c2cf6b9",
   "metadata": {},
   "outputs": [],
   "source": [
    "def gerador_par(y):\n",
    "    list_par = []\n",
    "    for p in range(y):\n",
    "        if p % 2 == 0:\n",
    "            list_par.append(p)\n",
    "    return list_par"
   ]
  },
  {
   "cell_type": "code",
   "execution_count": 51,
   "id": "f3c57e01-c9fc-41b4-a081-36e33fbd2874",
   "metadata": {},
   "outputs": [
    {
     "data": {
      "text/plain": [
       "[0, 2, 4, 6, 8, 10]"
      ]
     },
     "execution_count": 51,
     "metadata": {},
     "output_type": "execute_result"
    }
   ],
   "source": [
    "gerador_par(12)"
   ]
  },
  {
   "cell_type": "code",
   "execution_count": 52,
   "id": "8759122c-5a89-4c48-b41f-010fb611a23c",
   "metadata": {},
   "outputs": [
    {
     "data": {
      "text/plain": [
       "[1, 3, 5, 7, 9, 11]"
      ]
     },
     "execution_count": 52,
     "metadata": {},
     "output_type": "execute_result"
    }
   ],
   "source": [
    "gerador_impar(12)"
   ]
  },
  {
   "cell_type": "markdown",
   "id": "0901a87b-a67e-4bd9-950f-3e29b8f69de0",
   "metadata": {},
   "source": [
    "## Função lambda"
   ]
  },
  {
   "cell_type": "code",
   "execution_count": 54,
   "id": "e3df235d-25a7-4c95-85e9-a05d06d9b66c",
   "metadata": {},
   "outputs": [],
   "source": [
    "def elevar(x):\n",
    "    return x ** 2"
   ]
  },
  {
   "cell_type": "code",
   "execution_count": 55,
   "id": "48527dec-0a7e-410c-bd01-9f31e57e1285",
   "metadata": {},
   "outputs": [
    {
     "data": {
      "text/plain": [
       "100"
      ]
     },
     "execution_count": 55,
     "metadata": {},
     "output_type": "execute_result"
    }
   ],
   "source": [
    "elevar(10)"
   ]
  },
  {
   "cell_type": "code",
   "execution_count": 57,
   "id": "cbb10c3d-dae1-4302-af47-97e8dd2efe62",
   "metadata": {},
   "outputs": [],
   "source": [
    "# lambda é como se fosse a função acima de uma forma mais reduzida.\n",
    "a = lambda x: x ** 2"
   ]
  },
  {
   "cell_type": "code",
   "execution_count": 58,
   "id": "a927d9e9-a38c-44e2-9266-7aec32f1207e",
   "metadata": {},
   "outputs": [
    {
     "data": {
      "text/plain": [
       "100"
      ]
     },
     "execution_count": 58,
     "metadata": {},
     "output_type": "execute_result"
    }
   ],
   "source": [
    "a(10)"
   ]
  },
  {
   "cell_type": "code",
   "execution_count": 65,
   "id": "5e504551-4bbf-44e2-8871-b26c2d7574ac",
   "metadata": {},
   "outputs": [],
   "source": [
    "x = lambda s: s + 15"
   ]
  },
  {
   "cell_type": "code",
   "execution_count": 66,
   "id": "480560d5-3a3a-4814-8147-f8014ba05ada",
   "metadata": {},
   "outputs": [
    {
     "data": {
      "text/plain": [
       "20"
      ]
     },
     "execution_count": 66,
     "metadata": {},
     "output_type": "execute_result"
    }
   ],
   "source": [
    "x(5)"
   ]
  },
  {
   "cell_type": "code",
   "execution_count": 71,
   "id": "a2df533f-da93-481c-b2ad-15084cd153df",
   "metadata": {},
   "outputs": [],
   "source": [
    "y = lambda z, w: z + w"
   ]
  },
  {
   "cell_type": "code",
   "execution_count": 72,
   "id": "857b58b3-6685-4e28-8ccb-64c4c159c910",
   "metadata": {},
   "outputs": [
    {
     "data": {
      "text/plain": [
       "55"
      ]
     },
     "execution_count": 72,
     "metadata": {},
     "output_type": "execute_result"
    }
   ],
   "source": [
    "y(5, 50)"
   ]
  },
  {
   "cell_type": "code",
   "execution_count": 88,
   "id": "183ae71b-3caf-4830-9636-34c56d40768c",
   "metadata": {},
   "outputs": [],
   "source": [
    "s = lambda mais, mas : mais + mas "
   ]
  },
  {
   "cell_type": "code",
   "execution_count": 92,
   "id": "215374e6-26c3-4a75-89b7-2e3eb2effd93",
   "metadata": {},
   "outputs": [
    {
     "data": {
      "text/plain": [
       "40"
      ]
     },
     "execution_count": 92,
     "metadata": {},
     "output_type": "execute_result"
    }
   ],
   "source": [
    "s(15, 25)"
   ]
  },
  {
   "cell_type": "code",
   "execution_count": 99,
   "id": "2232923a-cc75-40d6-be0b-f07b80ce9a14",
   "metadata": {},
   "outputs": [],
   "source": [
    "calcular = lambda x: x * 0.05"
   ]
  },
  {
   "cell_type": "code",
   "execution_count": 101,
   "id": "37d9066a-d5aa-4eed-a101-bc49facf17d4",
   "metadata": {},
   "outputs": [
    {
     "data": {
      "text/plain": [
       "125.0"
      ]
     },
     "execution_count": 101,
     "metadata": {},
     "output_type": "execute_result"
    }
   ],
   "source": [
    "calcular(2500)"
   ]
  },
  {
   "cell_type": "code",
   "execution_count": 102,
   "id": "d7120c0c-6fa5-4344-88fc-1042c5d7a6a8",
   "metadata": {},
   "outputs": [
    {
     "data": {
      "text/plain": [
       "[37.5, 120.0, 60.0, 15.0]"
      ]
     },
     "execution_count": 102,
     "metadata": {},
     "output_type": "execute_result"
    }
   ],
   "source": [
    "valores = [125, 400, 200, 50]\n",
    "\n",
    "impostos = list(map(lambda y: y * 0.3, valores))\n",
    "\n",
    "impostos"
   ]
  },
  {
   "cell_type": "code",
   "execution_count": 104,
   "id": "16d0f622-f3ca-4406-80f7-c7f4709a7861",
   "metadata": {},
   "outputs": [
    {
     "data": {
      "text/plain": [
       "15"
      ]
     },
     "execution_count": 104,
     "metadata": {},
     "output_type": "execute_result"
    }
   ],
   "source": [
    "# aqui eu testei se poderia subtrair resultado de uma função por outra function\n",
    "y(5, 50) - s(15, 25)"
   ]
  },
  {
   "cell_type": "code",
   "execution_count": 105,
   "id": "9dd0fc64-3f00-4580-8f44-835fbe6a53c8",
   "metadata": {},
   "outputs": [],
   "source": [
    "pedro = lambda x: x"
   ]
  },
  {
   "cell_type": "code",
   "execution_count": 106,
   "id": "a3cd7b27-7b4d-4426-b588-85bddecd55ef",
   "metadata": {},
   "outputs": [],
   "source": [
    "maria = lambda y: y "
   ]
  },
  {
   "cell_type": "code",
   "execution_count": 107,
   "id": "bb99dbf9-13d1-48d3-a64b-9584c7a02d74",
   "metadata": {},
   "outputs": [
    {
     "data": {
      "text/plain": [
       "120"
      ]
     },
     "execution_count": 107,
     "metadata": {},
     "output_type": "execute_result"
    }
   ],
   "source": [
    "pedro(50) + maria(70)"
   ]
  },
  {
   "cell_type": "code",
   "execution_count": null,
   "id": "b18fbe5f-e8a7-4a8f-bc1d-cecbd499ffdc",
   "metadata": {},
   "outputs": [],
   "source": []
  }
 ],
 "metadata": {
  "kernelspec": {
   "display_name": "Python 3 (ipykernel)",
   "language": "python",
   "name": "python3"
  },
  "language_info": {
   "codemirror_mode": {
    "name": "ipython",
    "version": 3
   },
   "file_extension": ".py",
   "mimetype": "text/x-python",
   "name": "python",
   "nbconvert_exporter": "python",
   "pygments_lexer": "ipython3",
   "version": "3.9.12"
  }
 },
 "nbformat": 4,
 "nbformat_minor": 5
}
