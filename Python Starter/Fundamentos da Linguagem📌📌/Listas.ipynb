{
 "cells": [
  {
   "cell_type": "markdown",
   "id": "3b4fc8d4-498e-42c6-92b3-0076e7f58975",
   "metadata": {},
   "source": [
    "# > LISTAS < "
   ]
  },
  {
   "cell_type": "code",
   "execution_count": 1,
   "id": "7d63b874-7118-4676-bffe-9b256aa68b60",
   "metadata": {},
   "outputs": [],
   "source": [
    "lista1 = [1, 2, 3]"
   ]
  },
  {
   "cell_type": "code",
   "execution_count": 2,
   "id": "350ee87b-a4d1-4801-a9d7-418263100cf3",
   "metadata": {},
   "outputs": [
    {
     "data": {
      "text/plain": [
       "[1, 2, 3]"
      ]
     },
     "execution_count": 2,
     "metadata": {},
     "output_type": "execute_result"
    }
   ],
   "source": [
    "lista1"
   ]
  },
  {
   "cell_type": "code",
   "execution_count": 3,
   "id": "afeeaf55-c734-47c3-b980-6f8417c783d0",
   "metadata": {},
   "outputs": [
    {
     "data": {
      "text/plain": [
       "list"
      ]
     },
     "execution_count": 3,
     "metadata": {},
     "output_type": "execute_result"
    }
   ],
   "source": [
    "type(lista1)"
   ]
  },
  {
   "cell_type": "code",
   "execution_count": 4,
   "id": "34521dc8-5229-488b-81d6-921ec69e3ca2",
   "metadata": {},
   "outputs": [
    {
     "data": {
      "text/plain": [
       "1"
      ]
     },
     "execution_count": 4,
     "metadata": {},
     "output_type": "execute_result"
    }
   ],
   "source": [
    "lista1[0]"
   ]
  },
  {
   "cell_type": "code",
   "execution_count": 5,
   "id": "af2cd369-684a-46ae-bbfd-ad9eda06edb3",
   "metadata": {},
   "outputs": [
    {
     "data": {
      "text/plain": [
       "3"
      ]
     },
     "execution_count": 5,
     "metadata": {},
     "output_type": "execute_result"
    }
   ],
   "source": [
    "lista1[-1]"
   ]
  },
  {
   "cell_type": "code",
   "execution_count": 6,
   "id": "08efa333-fc7b-4cb1-905d-acddbd5567ee",
   "metadata": {},
   "outputs": [
    {
     "data": {
      "text/plain": [
       "1"
      ]
     },
     "execution_count": 6,
     "metadata": {},
     "output_type": "execute_result"
    }
   ],
   "source": [
    "lista1[-3]"
   ]
  },
  {
   "cell_type": "code",
   "execution_count": 7,
   "id": "76c42199-e2cc-44e5-856b-cdb1556e7ab1",
   "metadata": {},
   "outputs": [],
   "source": [
    "lista2 = [1, 3, 'hello', 'oi']"
   ]
  },
  {
   "cell_type": "code",
   "execution_count": 8,
   "id": "a67dbe7c-637f-4d63-b5e4-75cb36ac18ca",
   "metadata": {},
   "outputs": [
    {
     "data": {
      "text/plain": [
       "'hello'"
      ]
     },
     "execution_count": 8,
     "metadata": {},
     "output_type": "execute_result"
    }
   ],
   "source": [
    "lista2[2]"
   ]
  },
  {
   "cell_type": "code",
   "execution_count": 9,
   "id": "b78251e2-4040-456e-ad31-ee390cb29f0c",
   "metadata": {},
   "outputs": [
    {
     "data": {
      "text/plain": [
       "'HELLO'"
      ]
     },
     "execution_count": 9,
     "metadata": {},
     "output_type": "execute_result"
    }
   ],
   "source": [
    "lista2[2].upper()"
   ]
  },
  {
   "cell_type": "code",
   "execution_count": 10,
   "id": "f3111bfd-bf34-488f-91f7-37b07a7c4d5d",
   "metadata": {},
   "outputs": [
    {
     "data": {
      "text/plain": [
       "[1, 3, 'hello', 'oi']"
      ]
     },
     "execution_count": 10,
     "metadata": {},
     "output_type": "execute_result"
    }
   ],
   "source": [
    "lista2"
   ]
  },
  {
   "cell_type": "markdown",
   "id": "c9b1a758-4b38-43dc-b679-2d3dee1d354e",
   "metadata": {},
   "source": [
    "> Metodos básicos das listas "
   ]
  },
  {
   "cell_type": "code",
   "execution_count": 11,
   "id": "e82623d3-6774-4f3f-b290-50047e38ea21",
   "metadata": {},
   "outputs": [],
   "source": [
    "L1 = [1, 3, 5]"
   ]
  },
  {
   "cell_type": "code",
   "execution_count": 12,
   "id": "7d11d459-0ecf-4e5f-9d2e-266943c53bd8",
   "metadata": {},
   "outputs": [],
   "source": [
    "L1.append(7)"
   ]
  },
  {
   "cell_type": "code",
   "execution_count": 13,
   "id": "7ac9c58c-0ad3-40c1-8b42-c615015de4dd",
   "metadata": {},
   "outputs": [
    {
     "data": {
      "text/plain": [
       "[1, 3, 5, 7]"
      ]
     },
     "execution_count": 13,
     "metadata": {},
     "output_type": "execute_result"
    }
   ],
   "source": [
    "L1"
   ]
  },
  {
   "cell_type": "code",
   "execution_count": 14,
   "id": "e14b2d5c-3fd7-41b0-9527-fd8dc1a0791f",
   "metadata": {},
   "outputs": [
    {
     "data": {
      "text/plain": [
       "[1, 3, 5]"
      ]
     },
     "execution_count": 14,
     "metadata": {},
     "output_type": "execute_result"
    }
   ],
   "source": [
    "L1.pop()\n",
    "L1"
   ]
  },
  {
   "cell_type": "code",
   "execution_count": 18,
   "id": "25372eca-8e41-4938-85e0-db7306f04ade",
   "metadata": {},
   "outputs": [],
   "source": [
    "L2 = ['a', 'b', 'c', 'd']\n"
   ]
  },
  {
   "cell_type": "code",
   "execution_count": 19,
   "id": "01e770d7-ab2d-492a-b813-0f26eaa56e41",
   "metadata": {},
   "outputs": [],
   "source": [
    "L2.reverse()"
   ]
  },
  {
   "cell_type": "code",
   "execution_count": 20,
   "id": "584f9485-bc76-4bb1-9640-07f8ef7b9374",
   "metadata": {},
   "outputs": [
    {
     "data": {
      "text/plain": [
       "['d', 'c', 'b', 'a']"
      ]
     },
     "execution_count": 20,
     "metadata": {},
     "output_type": "execute_result"
    }
   ],
   "source": [
    "L2"
   ]
  },
  {
   "cell_type": "code",
   "execution_count": 22,
   "id": "f522470d-e6d1-459e-b3e6-430e535ce550",
   "metadata": {},
   "outputs": [],
   "source": [
    "lista = [1, 3]\n",
    "lista2 = [5, 7]\n",
    "lista3= [9, 11]"
   ]
  },
  {
   "cell_type": "code",
   "execution_count": 23,
   "id": "27da5675-0ccc-4678-8afb-9605549d725a",
   "metadata": {},
   "outputs": [
    {
     "data": {
      "text/plain": [
       "[[1, 3], [5, 7], [9, 11]]"
      ]
     },
     "execution_count": 23,
     "metadata": {},
     "output_type": "execute_result"
    }
   ],
   "source": [
    "lista4 = [lista, lista2, lista3]\n",
    "lista4"
   ]
  },
  {
   "cell_type": "code",
   "execution_count": 24,
   "id": "ec4f39eb-3a2f-42b3-97a4-08718125a8cf",
   "metadata": {},
   "outputs": [
    {
     "data": {
      "text/plain": [
       "3"
      ]
     },
     "execution_count": 24,
     "metadata": {},
     "output_type": "execute_result"
    }
   ],
   "source": [
    "lista4[0][1]"
   ]
  },
  {
   "cell_type": "code",
   "execution_count": null,
   "id": "3d106db3-878a-4bd1-b7c4-c08435abfbd7",
   "metadata": {},
   "outputs": [],
   "source": []
  }
 ],
 "metadata": {
  "kernelspec": {
   "display_name": "Python 3 (ipykernel)",
   "language": "python",
   "name": "python3"
  },
  "language_info": {
   "codemirror_mode": {
    "name": "ipython",
    "version": 3
   },
   "file_extension": ".py",
   "mimetype": "text/x-python",
   "name": "python",
   "nbconvert_exporter": "python",
   "pygments_lexer": "ipython3",
   "version": "3.9.12"
  }
 },
 "nbformat": 4,
 "nbformat_minor": 5
}
