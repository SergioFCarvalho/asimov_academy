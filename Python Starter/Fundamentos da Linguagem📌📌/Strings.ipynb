{
 "cells": [
  {
   "cell_type": "markdown",
   "id": "dd78d578-24da-47e7-bb1c-6ec2940ba9e6",
   "metadata": {},
   "source": [
    "# - > Strings "
   ]
  },
  {
   "cell_type": "code",
   "execution_count": 1,
   "id": "b1bddd03-98f1-4be3-ae20-fb51d16324f3",
   "metadata": {},
   "outputs": [],
   "source": [
    "minha_string = \"hello\""
   ]
  },
  {
   "cell_type": "code",
   "execution_count": 2,
   "id": "741cb1d9-3382-43dc-809e-58ad65de4cc6",
   "metadata": {},
   "outputs": [
    {
     "data": {
      "text/plain": [
       "'hello'"
      ]
     },
     "execution_count": 2,
     "metadata": {},
     "output_type": "execute_result"
    }
   ],
   "source": [
    "minha_string"
   ]
  },
  {
   "cell_type": "code",
   "execution_count": 8,
   "id": "ba0acb79-3028-4d90-8815-9c6de668f049",
   "metadata": {},
   "outputs": [],
   "source": [
    "minha_string2 = \"Hello boy..!!!\""
   ]
  },
  {
   "cell_type": "code",
   "execution_count": 9,
   "id": "d7b0fa7f-f481-4b7c-8b99-39c797255c90",
   "metadata": {},
   "outputs": [
    {
     "data": {
      "text/plain": [
       "'Hello boy..!!!'"
      ]
     },
     "execution_count": 9,
     "metadata": {},
     "output_type": "execute_result"
    }
   ],
   "source": [
    "minha_string2"
   ]
  },
  {
   "cell_type": "code",
   "execution_count": 5,
   "id": "210b1581-ec99-4b02-8786-22031a5ffe07",
   "metadata": {},
   "outputs": [],
   "source": [
    "minha_string3 = 'isto é \"aspas\" string'"
   ]
  },
  {
   "cell_type": "code",
   "execution_count": 6,
   "id": "00736bcb-9661-4b35-906e-0c8f6313a475",
   "metadata": {},
   "outputs": [
    {
     "name": "stdout",
     "output_type": "stream",
     "text": [
      "isto é \"aspas\" string\n"
     ]
    }
   ],
   "source": [
    "print(minha_string3)"
   ]
  },
  {
   "cell_type": "code",
   "execution_count": 10,
   "id": "f6f64bb4-2f61-45ce-8ebe-37e15aabb802",
   "metadata": {},
   "outputs": [
    {
     "data": {
      "text/plain": [
       "5"
      ]
     },
     "execution_count": 10,
     "metadata": {},
     "output_type": "execute_result"
    }
   ],
   "source": [
    "len(minha_string)"
   ]
  },
  {
   "cell_type": "code",
   "execution_count": 11,
   "id": "b1cb9ec0-85b8-44a5-9c4d-bfa25606be1a",
   "metadata": {},
   "outputs": [
    {
     "data": {
      "text/plain": [
       "'hello,Hello boy..!!!'"
      ]
     },
     "execution_count": 11,
     "metadata": {},
     "output_type": "execute_result"
    }
   ],
   "source": [
    "minha_string + \",\" + minha_string2"
   ]
  },
  {
   "cell_type": "markdown",
   "id": "bc5e29d2-bbc8-433f-bbcc-fd5d7ab36616",
   "metadata": {},
   "source": [
    "## indexação "
   ]
  },
  {
   "cell_type": "code",
   "execution_count": 16,
   "id": "15dc0052-ab52-4cc8-a785-bc383e68f447",
   "metadata": {},
   "outputs": [
    {
     "name": "stdout",
     "output_type": "stream",
     "text": [
      "h\n",
      "e\n"
     ]
    }
   ],
   "source": [
    "print(minha_string[0])\n",
    "print(minha_string[1])"
   ]
  },
  {
   "cell_type": "code",
   "execution_count": 18,
   "id": "9e1a45f0-aad4-485f-a586-2d2dfeefc85b",
   "metadata": {},
   "outputs": [
    {
     "data": {
      "text/plain": [
       "'hel'"
      ]
     },
     "execution_count": 18,
     "metadata": {},
     "output_type": "execute_result"
    }
   ],
   "source": [
    "minha_string[:3]"
   ]
  },
  {
   "cell_type": "code",
   "execution_count": 19,
   "id": "3368d861-0e91-4b43-a363-8a995b7b3ceb",
   "metadata": {},
   "outputs": [
    {
     "data": {
      "text/plain": [
       "'ello'"
      ]
     },
     "execution_count": 19,
     "metadata": {},
     "output_type": "execute_result"
    }
   ],
   "source": [
    "minha_string[1:]"
   ]
  },
  {
   "cell_type": "code",
   "execution_count": 21,
   "id": "e6581055-5c52-457d-a500-694b9f960c14",
   "metadata": {},
   "outputs": [
    {
     "data": {
      "text/plain": [
       "'hello'"
      ]
     },
     "execution_count": 21,
     "metadata": {},
     "output_type": "execute_result"
    }
   ],
   "source": [
    "minha_string[-5:]"
   ]
  },
  {
   "cell_type": "code",
   "execution_count": 23,
   "id": "8880f81d-3114-4155-bc3b-3ea31f19e792",
   "metadata": {},
   "outputs": [
    {
     "data": {
      "text/plain": [
       "'hell'"
      ]
     },
     "execution_count": 23,
     "metadata": {},
     "output_type": "execute_result"
    }
   ],
   "source": [
    "minha_string[:-1]"
   ]
  },
  {
   "cell_type": "code",
   "execution_count": 25,
   "id": "1927e0c0-d92f-4af2-b067-1232db9766d4",
   "metadata": {},
   "outputs": [
    {
     "data": {
      "text/plain": [
       "'olleh'"
      ]
     },
     "execution_count": 25,
     "metadata": {},
     "output_type": "execute_result"
    }
   ],
   "source": [
    "minha_string[::-1]"
   ]
  },
  {
   "cell_type": "markdown",
   "id": "c9c9e7f5-04fa-46da-a4ac-95bd4f00d61d",
   "metadata": {},
   "source": [
    "### >> Mais sobre strings"
   ]
  },
  {
   "cell_type": "code",
   "execution_count": 28,
   "id": "1d2f80c6-8d22-4a72-a546-849a2dc025c2",
   "metadata": {},
   "outputs": [
    {
     "data": {
      "text/plain": [
       "'hello'"
      ]
     },
     "execution_count": 28,
     "metadata": {},
     "output_type": "execute_result"
    }
   ],
   "source": [
    "\"hello\".lower()"
   ]
  },
  {
   "cell_type": "code",
   "execution_count": 31,
   "id": "0c15fada-360f-4138-9593-8fa1c95cc3de",
   "metadata": {},
   "outputs": [
    {
     "data": {
      "text/plain": [
       "['hello', 'Sérgio']"
      ]
     },
     "execution_count": 31,
     "metadata": {},
     "output_type": "execute_result"
    }
   ],
   "source": [
    "\"hello Sérgio\".split(\" \")"
   ]
  },
  {
   "cell_type": "code",
   "execution_count": 32,
   "id": "980006c0-d05c-4a57-853b-af909ef05ec7",
   "metadata": {},
   "outputs": [
    {
     "data": {
      "text/plain": [
       "['sergiofreire', 'gmail.com']"
      ]
     },
     "execution_count": 32,
     "metadata": {},
     "output_type": "execute_result"
    }
   ],
   "source": [
    "\"sergiofreire@gmail.com\".split('@')"
   ]
  },
  {
   "cell_type": "code",
   "execution_count": 34,
   "id": "6cf82a95-bd0a-4961-abd6-df600c2da85b",
   "metadata": {},
   "outputs": [
    {
     "data": {
      "text/plain": [
       "'idade da pessoa é: 20 e seu nome é Lauro'"
      ]
     },
     "execution_count": 34,
     "metadata": {},
     "output_type": "execute_result"
    }
   ],
   "source": [
    "idade = 20\n",
    "nome = 'Lauro'\n",
    "\"idade da pessoa é: {} e seu nome é {}\".format(idade, nome)"
   ]
  },
  {
   "cell_type": "code",
   "execution_count": null,
   "id": "ad94e0d9-311b-4576-aa2d-fe5df0bc04d4",
   "metadata": {},
   "outputs": [],
   "source": []
  }
 ],
 "metadata": {
  "kernelspec": {
   "display_name": "Python 3 (ipykernel)",
   "language": "python",
   "name": "python3"
  },
  "language_info": {
   "codemirror_mode": {
    "name": "ipython",
    "version": 3
   },
   "file_extension": ".py",
   "mimetype": "text/x-python",
   "name": "python",
   "nbconvert_exporter": "python",
   "pygments_lexer": "ipython3",
   "version": "3.9.12"
  }
 },
 "nbformat": 4,
 "nbformat_minor": 5
}
