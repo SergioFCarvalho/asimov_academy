{
 "cells": [
  {
   "cell_type": "markdown",
   "id": "1c48b8c3-79d7-4bae-8108-b0f4f25caad4",
   "metadata": {},
   "source": [
    "TUPLAS "
   ]
  },
  {
   "cell_type": "code",
   "execution_count": 1,
   "id": "ee64bdc8-a3b2-4f0d-ab7f-dfc5107462cd",
   "metadata": {},
   "outputs": [],
   "source": [
    "T = (1, 3, 5)"
   ]
  },
  {
   "cell_type": "code",
   "execution_count": 2,
   "id": "f0b87454-cd23-4ed6-a6f2-ac12536df37a",
   "metadata": {},
   "outputs": [
    {
     "data": {
      "text/plain": [
       "(1, 3, 5)"
      ]
     },
     "execution_count": 2,
     "metadata": {},
     "output_type": "execute_result"
    }
   ],
   "source": [
    "T"
   ]
  },
  {
   "cell_type": "code",
   "execution_count": 3,
   "id": "27daad45-dac5-4e42-8a5b-8a7a915b931a",
   "metadata": {},
   "outputs": [],
   "source": [
    "a, b = (1, 2)"
   ]
  },
  {
   "cell_type": "code",
   "execution_count": 4,
   "id": "9b318540-44b3-44a8-a1e1-370f98bb0632",
   "metadata": {},
   "outputs": [
    {
     "data": {
      "text/plain": [
       "1"
      ]
     },
     "execution_count": 4,
     "metadata": {},
     "output_type": "execute_result"
    }
   ],
   "source": [
    "a "
   ]
  },
  {
   "cell_type": "code",
   "execution_count": 5,
   "id": "d149b425-0375-4ab1-a2ff-4efcfc6a5b29",
   "metadata": {},
   "outputs": [
    {
     "data": {
      "text/plain": [
       "2"
      ]
     },
     "execution_count": 5,
     "metadata": {},
     "output_type": "execute_result"
    }
   ],
   "source": [
    "b"
   ]
  },
  {
   "cell_type": "code",
   "execution_count": null,
   "id": "e7355ffe-108b-4f3c-8ce3-db91daed8c4f",
   "metadata": {},
   "outputs": [],
   "source": []
  }
 ],
 "metadata": {
  "kernelspec": {
   "display_name": "Python 3 (ipykernel)",
   "language": "python",
   "name": "python3"
  },
  "language_info": {
   "codemirror_mode": {
    "name": "ipython",
    "version": 3
   },
   "file_extension": ".py",
   "mimetype": "text/x-python",
   "name": "python",
   "nbconvert_exporter": "python",
   "pygments_lexer": "ipython3",
   "version": "3.9.12"
  }
 },
 "nbformat": 4,
 "nbformat_minor": 5
}
