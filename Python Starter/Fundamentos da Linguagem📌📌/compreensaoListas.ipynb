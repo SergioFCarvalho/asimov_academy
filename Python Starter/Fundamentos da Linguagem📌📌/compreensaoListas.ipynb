{
 "cells": [
  {
   "cell_type": "markdown",
   "id": "f4837973-a151-4fe5-92f4-105e57783c25",
   "metadata": {},
   "source": [
    "## Compreensão em listas "
   ]
  },
  {
   "cell_type": "code",
   "execution_count": 7,
   "id": "0f16f06a-f5fa-49e0-b6af-02e1e5fe07f0",
   "metadata": {},
   "outputs": [],
   "source": [
    "nome = \"Ball Fire\"\n",
    "list_nome = []\n",
    "\n",
    "for w in nome:\n",
    "    list_nome.append(w)"
   ]
  },
  {
   "cell_type": "code",
   "execution_count": 5,
   "id": "091e08f8-406e-4bb7-ad3a-8b43f3fe6142",
   "metadata": {},
   "outputs": [
    {
     "data": {
      "text/plain": [
       "['D', 'r', 'a', 'g', 'o', 'n', ' ', 'b', 'a', 'l', 'l', ' ', 'z']"
      ]
     },
     "execution_count": 5,
     "metadata": {},
     "output_type": "execute_result"
    }
   ],
   "source": [
    "list_nome"
   ]
  },
  {
   "cell_type": "code",
   "execution_count": 8,
   "id": "706cc10e-f461-4318-941a-2e7604531a6d",
   "metadata": {},
   "outputs": [
    {
     "data": {
      "text/plain": [
       "['B', 'a', 'l', 'l', ' ', 'F', 'i', 'r', 'e']"
      ]
     },
     "execution_count": 8,
     "metadata": {},
     "output_type": "execute_result"
    }
   ],
   "source": [
    "# condensar compreensão em listas | list comprehension\n",
    "list_nome = [w for w in nome]\n",
    "list_nome"
   ]
  },
  {
   "cell_type": "code",
   "execution_count": 9,
   "id": "db6a286f-39db-413f-8c47-44c9d068d171",
   "metadata": {},
   "outputs": [
    {
     "data": {
      "text/plain": [
       "[0, 1, 4, 9, 16, 25, 36, 49, 64, 81]"
      ]
     },
     "execution_count": 9,
     "metadata": {},
     "output_type": "execute_result"
    }
   ],
   "source": [
    "#list comprehension\n",
    "lista2 = [(x**2) for x in range(10)]\n",
    "lista2"
   ]
  },
  {
   "cell_type": "code",
   "execution_count": 10,
   "id": "9a822f5e-36a0-4950-85dd-cb4138eeb693",
   "metadata": {},
   "outputs": [
    {
     "data": {
      "text/plain": [
       "[0, 2, 4, 6, 8, 10, 12, 14, 16, 18, 20, 22, 24, 26, 28]"
      ]
     },
     "execution_count": 10,
     "metadata": {},
     "output_type": "execute_result"
    }
   ],
   "source": [
    "#list comprehension\n",
    "lista3 = [x for x in range(30) if x % 2 == 0]\n",
    "lista3"
   ]
  },
  {
   "cell_type": "code",
   "execution_count": 11,
   "id": "1e3add5e-85d2-446b-86e1-c2163a4e5338",
   "metadata": {},
   "outputs": [
    {
     "data": {
      "text/plain": [
       "['sim', 'não', 'nada', 'nada', 'nada']"
      ]
     },
     "execution_count": 11,
     "metadata": {},
     "output_type": "execute_result"
    }
   ],
   "source": [
    "# list comprehension\n",
    "l = [1, 2, 3, 4, 5]\n",
    "['sim' if v == 1 else 'não' if v == 2 else 'nada' for v in l]"
   ]
  },
  {
   "cell_type": "code",
   "execution_count": 15,
   "id": "23e43720-4c4b-4120-8568-8b6ed951adf9",
   "metadata": {},
   "outputs": [
    {
     "data": {
      "text/plain": [
       "['par', 'par', 'ímpar', 'ímpar', 'par', 'ímpar', 'ímpar']"
      ]
     },
     "execution_count": 15,
     "metadata": {},
     "output_type": "execute_result"
    }
   ],
   "source": [
    "numeros = [2, 4, 7, 9, 12, 15, 17]\n",
    "['par' if v % 2 == 0 else 'ímpar' if v % 2 == 1 else 'nada' for v in numeros]"
   ]
  },
  {
   "cell_type": "code",
   "execution_count": null,
   "id": "e65136f6-7ae8-4e47-9230-b1b3fe077834",
   "metadata": {},
   "outputs": [],
   "source": []
  }
 ],
 "metadata": {
  "kernelspec": {
   "display_name": "Python 3 (ipykernel)",
   "language": "python",
   "name": "python3"
  },
  "language_info": {
   "codemirror_mode": {
    "name": "ipython",
    "version": 3
   },
   "file_extension": ".py",
   "mimetype": "text/x-python",
   "name": "python",
   "nbconvert_exporter": "python",
   "pygments_lexer": "ipython3",
   "version": "3.9.12"
  }
 },
 "nbformat": 4,
 "nbformat_minor": 5
}
