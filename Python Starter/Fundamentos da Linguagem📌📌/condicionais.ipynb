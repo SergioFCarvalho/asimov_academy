{
 "cells": [
  {
   "cell_type": "markdown",
   "id": "61b663f9-ca58-42a4-b706-c3024668dd37",
   "metadata": {},
   "source": [
    "# IF | ELIF | ELSE "
   ]
  },
  {
   "cell_type": "code",
   "execution_count": 10,
   "id": "cd1ad46f-aad9-4413-a851-d626b4fc0f2d",
   "metadata": {},
   "outputs": [
    {
     "name": "stdin",
     "output_type": "stream",
     "text": [
      "Nota1:  5\n",
      "Nota2:  2\n"
     ]
    },
    {
     "name": "stdout",
     "output_type": "stream",
     "text": [
      "3.5\n"
     ]
    }
   ],
   "source": [
    "nota1 = float(input(\"Nota1: \"))\n",
    "nota2 = float(input(\"Nota2: \"))\n",
    "media = (nota1 + nota2)/2\n",
    "print(media)"
   ]
  },
  {
   "cell_type": "code",
   "execution_count": 13,
   "id": "eb0afc2e-5323-4aae-b6f2-97b82b71cbe2",
   "metadata": {},
   "outputs": [
    {
     "name": "stdout",
     "output_type": "stream",
     "text": [
      "Reprovado!!\n"
     ]
    }
   ],
   "source": [
    "if media >= 7:\n",
    "    print(\"Aprovado!\")\n",
    "elif media >= 6:\n",
    "    print(\"Recuperação!\")\n",
    "else:\n",
    "    print(\"Reprovado!!\")\n",
    "        "
   ]
  },
  {
   "cell_type": "code",
   "execution_count": 23,
   "id": "d25f28ee-01a7-407d-bd4f-357767710579",
   "metadata": {},
   "outputs": [
    {
     "name": "stdin",
     "output_type": "stream",
     "text": [
      "Qual temperatura ?  31\n"
     ]
    },
    {
     "name": "stdout",
     "output_type": "stream",
     "text": [
      "\u001b[1;91mEstá quente\n"
     ]
    }
   ],
   "source": [
    "temp = int(input(\"Qual temperatura ? \"))\n",
    "\n",
    "if temp > 30:\n",
    "    print(\"\\033[1;91mEstá quente\")\n",
    "elif temp == 30:\n",
    "    print(\"Temperatura é 30°\")\n",
    "else:\n",
    "    print(\"\\033[1;94mTemperatura abaixo de 30°\")"
   ]
  },
  {
   "cell_type": "code",
   "execution_count": null,
   "id": "6c43e027-a914-4e21-aaf9-71fa7a4c0018",
   "metadata": {},
   "outputs": [],
   "source": []
  }
 ],
 "metadata": {
  "kernelspec": {
   "display_name": "Python 3 (ipykernel)",
   "language": "python",
   "name": "python3"
  },
  "language_info": {
   "codemirror_mode": {
    "name": "ipython",
    "version": 3
   },
   "file_extension": ".py",
   "mimetype": "text/x-python",
   "name": "python",
   "nbconvert_exporter": "python",
   "pygments_lexer": "ipython3",
   "version": "3.9.12"
  }
 },
 "nbformat": 4,
 "nbformat_minor": 5
}
