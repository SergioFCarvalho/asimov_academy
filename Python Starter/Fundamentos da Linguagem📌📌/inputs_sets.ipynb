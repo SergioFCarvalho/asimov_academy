{
 "cells": [
  {
   "cell_type": "markdown",
   "id": "e59199cc-87b1-498b-9fed-e37aefbec896",
   "metadata": {},
   "source": [
    "## Input(), Sets e Booleanos"
   ]
  },
  {
   "cell_type": "code",
   "execution_count": 1,
   "id": "60e2fcfd-2f44-4c82-90a7-75941c181dbb",
   "metadata": {},
   "outputs": [
    {
     "name": "stdin",
     "output_type": "stream",
     "text": [
      " 123\n"
     ]
    }
   ],
   "source": [
    "a = input()"
   ]
  },
  {
   "cell_type": "code",
   "execution_count": 3,
   "id": "3a3d6958-53fc-4862-b8c2-bc9ac2ac10c6",
   "metadata": {},
   "outputs": [
    {
     "data": {
      "text/plain": [
       "123"
      ]
     },
     "execution_count": 3,
     "metadata": {},
     "output_type": "execute_result"
    }
   ],
   "source": [
    "int(a)"
   ]
  },
  {
   "cell_type": "code",
   "execution_count": 4,
   "id": "a5ec2052-a3b0-4144-8121-dee8f723ffa5",
   "metadata": {},
   "outputs": [
    {
     "data": {
      "text/plain": [
       "123.0"
      ]
     },
     "execution_count": 4,
     "metadata": {},
     "output_type": "execute_result"
    }
   ],
   "source": [
    "float(a)"
   ]
  },
  {
   "cell_type": "markdown",
   "id": "e4af0872-88c1-43ac-bf2c-9fb3f7c95787",
   "metadata": {},
   "source": [
    "# Sets são conjuntos"
   ]
  },
  {
   "cell_type": "code",
   "execution_count": 5,
   "id": "04423745-b843-4098-b2da-dc6590b3bbb1",
   "metadata": {},
   "outputs": [],
   "source": [
    "x = set()"
   ]
  },
  {
   "cell_type": "code",
   "execution_count": 6,
   "id": "4ceb0a8f-d4d9-4592-89b8-02abbf745566",
   "metadata": {},
   "outputs": [
    {
     "data": {
      "text/plain": [
       "set()"
      ]
     },
     "execution_count": 6,
     "metadata": {},
     "output_type": "execute_result"
    }
   ],
   "source": [
    "x"
   ]
  },
  {
   "cell_type": "code",
   "execution_count": 7,
   "id": "65dc0531-f18c-4d4d-a101-8a18be99bd26",
   "metadata": {},
   "outputs": [
    {
     "data": {
      "text/plain": [
       "{35}"
      ]
     },
     "execution_count": 7,
     "metadata": {},
     "output_type": "execute_result"
    }
   ],
   "source": [
    "x.add(35)\n",
    "x"
   ]
  },
  {
   "cell_type": "code",
   "execution_count": 8,
   "id": "14299f47-a291-4bbd-8864-f0c2736db892",
   "metadata": {},
   "outputs": [
    {
     "data": {
      "text/plain": [
       "{1, 35}"
      ]
     },
     "execution_count": 8,
     "metadata": {},
     "output_type": "execute_result"
    }
   ],
   "source": [
    "x.add(1)\n",
    "x"
   ]
  },
  {
   "cell_type": "code",
   "execution_count": 9,
   "id": "eca842e9-c0b5-426f-83c5-b835071b7e20",
   "metadata": {},
   "outputs": [
    {
     "data": {
      "text/plain": [
       "{1, 23, 35}"
      ]
     },
     "execution_count": 9,
     "metadata": {},
     "output_type": "execute_result"
    }
   ],
   "source": [
    "x.add(23)\n",
    "x"
   ]
  },
  {
   "cell_type": "code",
   "execution_count": 10,
   "id": "ec6feaf0-e49f-463a-afec-a837442774a2",
   "metadata": {},
   "outputs": [],
   "source": [
    "lista = [1, 2, 3, 3, 5, 5, 6]"
   ]
  },
  {
   "cell_type": "code",
   "execution_count": 11,
   "id": "ee1323a0-0a92-489f-a646-35d25798f1da",
   "metadata": {},
   "outputs": [
    {
     "data": {
      "text/plain": [
       "[1, 2, 3, 3, 5, 5, 6]"
      ]
     },
     "execution_count": 11,
     "metadata": {},
     "output_type": "execute_result"
    }
   ],
   "source": [
    "lista"
   ]
  },
  {
   "cell_type": "code",
   "execution_count": 12,
   "id": "b1450b7e-d640-4b3c-a583-bf9640b1b202",
   "metadata": {},
   "outputs": [
    {
     "data": {
      "text/plain": [
       "{1, 2, 3, 5, 6}"
      ]
     },
     "execution_count": 12,
     "metadata": {},
     "output_type": "execute_result"
    }
   ],
   "source": [
    "set(lista)"
   ]
  },
  {
   "cell_type": "code",
   "execution_count": 14,
   "id": "6833417f-ad24-4963-83bc-b5b6da4cb4e1",
   "metadata": {},
   "outputs": [
    {
     "data": {
      "text/plain": [
       "1"
      ]
     },
     "execution_count": 14,
     "metadata": {},
     "output_type": "execute_result"
    }
   ],
   "source": [
    "set(lista).pop()"
   ]
  },
  {
   "cell_type": "code",
   "execution_count": 16,
   "id": "1de7a639-769c-42a5-97b2-bbf905d1ce50",
   "metadata": {},
   "outputs": [
    {
     "data": {
      "text/plain": [
       "{1, 2, 3, 5, 6}"
      ]
     },
     "execution_count": 16,
     "metadata": {},
     "output_type": "execute_result"
    }
   ],
   "source": [
    "set(lista)"
   ]
  },
  {
   "cell_type": "code",
   "execution_count": 18,
   "id": "7b1b0a45-a7c7-4928-b6f9-f2e9a1bfc552",
   "metadata": {},
   "outputs": [
    {
     "data": {
      "text/plain": [
       "{1, 2, 3, 5, 6}"
      ]
     },
     "execution_count": 18,
     "metadata": {},
     "output_type": "execute_result"
    }
   ],
   "source": [
    "set(lista).remove(6)\n",
    "set(lista)"
   ]
  },
  {
   "cell_type": "code",
   "execution_count": 19,
   "id": "808d955f-d556-493d-b984-ff101dd9b9f0",
   "metadata": {},
   "outputs": [],
   "source": [
    "x = set()"
   ]
  },
  {
   "cell_type": "code",
   "execution_count": 20,
   "id": "501de079-26c4-4e54-b09a-b2f69602f3be",
   "metadata": {},
   "outputs": [],
   "source": [
    "x.add(1)"
   ]
  },
  {
   "cell_type": "code",
   "execution_count": 21,
   "id": "c177a268-d896-453e-a210-1eacc5e32208",
   "metadata": {},
   "outputs": [],
   "source": [
    "x.add(3)"
   ]
  },
  {
   "cell_type": "code",
   "execution_count": 23,
   "id": "6d62869e-b387-4450-b505-a50ef67ff38b",
   "metadata": {},
   "outputs": [],
   "source": [
    "x.add(7)"
   ]
  },
  {
   "cell_type": "code",
   "execution_count": 24,
   "id": "2551b7ec-c07f-4164-8c39-1821eb95465f",
   "metadata": {},
   "outputs": [
    {
     "data": {
      "text/plain": [
       "{1, 3, 5, 7}"
      ]
     },
     "execution_count": 24,
     "metadata": {},
     "output_type": "execute_result"
    }
   ],
   "source": [
    "x"
   ]
  },
  {
   "cell_type": "code",
   "execution_count": 25,
   "id": "4aace21b-fc19-4878-b0ac-4f83a6e12442",
   "metadata": {},
   "outputs": [
    {
     "data": {
      "text/plain": [
       "1"
      ]
     },
     "execution_count": 25,
     "metadata": {},
     "output_type": "execute_result"
    }
   ],
   "source": [
    "x.pop()"
   ]
  },
  {
   "cell_type": "code",
   "execution_count": 26,
   "id": "0dcd5ecd-23c6-4522-bb82-8242bf93ac16",
   "metadata": {},
   "outputs": [
    {
     "data": {
      "text/plain": [
       "{3, 5, 7}"
      ]
     },
     "execution_count": 26,
     "metadata": {},
     "output_type": "execute_result"
    }
   ],
   "source": [
    "x"
   ]
  },
  {
   "cell_type": "markdown",
   "id": "6f0a853d-353f-4b49-b187-e94248c7c4a7",
   "metadata": {},
   "source": [
    "Boolleanos"
   ]
  },
  {
   "cell_type": "code",
   "execution_count": 27,
   "id": "7ce6171b-64e7-4907-b5b2-06486b7f4006",
   "metadata": {},
   "outputs": [],
   "source": [
    "a = True "
   ]
  },
  {
   "cell_type": "code",
   "execution_count": 28,
   "id": "24e9486f-1356-43dc-8696-b3fc7510be49",
   "metadata": {},
   "outputs": [
    {
     "data": {
      "text/plain": [
       "True"
      ]
     },
     "execution_count": 28,
     "metadata": {},
     "output_type": "execute_result"
    }
   ],
   "source": [
    "a "
   ]
  },
  {
   "cell_type": "code",
   "execution_count": 29,
   "id": "d293073f-fbe5-4e41-a776-408cbdf4e603",
   "metadata": {},
   "outputs": [],
   "source": [
    "b = False "
   ]
  },
  {
   "cell_type": "code",
   "execution_count": 30,
   "id": "fa65906f-3792-487f-8aca-a8c63b458d35",
   "metadata": {},
   "outputs": [
    {
     "data": {
      "text/plain": [
       "False"
      ]
     },
     "execution_count": 30,
     "metadata": {},
     "output_type": "execute_result"
    }
   ],
   "source": [
    "b"
   ]
  },
  {
   "cell_type": "code",
   "execution_count": 31,
   "id": "b6ba34d0-33c2-4057-a872-57612a196fa6",
   "metadata": {},
   "outputs": [
    {
     "data": {
      "text/plain": [
       "False"
      ]
     },
     "execution_count": 31,
     "metadata": {},
     "output_type": "execute_result"
    }
   ],
   "source": [
    "1 > 2 "
   ]
  },
  {
   "cell_type": "code",
   "execution_count": 32,
   "id": "f7fd282a-75e9-46fa-9cc6-40dc6d6e963c",
   "metadata": {},
   "outputs": [
    {
     "data": {
      "text/plain": [
       "False"
      ]
     },
     "execution_count": 32,
     "metadata": {},
     "output_type": "execute_result"
    }
   ],
   "source": [
    "3 < 1 "
   ]
  },
  {
   "cell_type": "code",
   "execution_count": 33,
   "id": "e4cce421-e380-4606-8f28-84bc80d56496",
   "metadata": {},
   "outputs": [
    {
     "data": {
      "text/plain": [
       "True"
      ]
     },
     "execution_count": 33,
     "metadata": {},
     "output_type": "execute_result"
    }
   ],
   "source": [
    "10 > 3 "
   ]
  },
  {
   "cell_type": "code",
   "execution_count": null,
   "id": "372db7be-67b9-467f-afba-b19a9ac878be",
   "metadata": {},
   "outputs": [],
   "source": []
  }
 ],
 "metadata": {
  "kernelspec": {
   "display_name": "Python 3 (ipykernel)",
   "language": "python",
   "name": "python3"
  },
  "language_info": {
   "codemirror_mode": {
    "name": "ipython",
    "version": 3
   },
   "file_extension": ".py",
   "mimetype": "text/x-python",
   "name": "python",
   "nbconvert_exporter": "python",
   "pygments_lexer": "ipython3",
   "version": "3.9.12"
  }
 },
 "nbformat": 4,
 "nbformat_minor": 5
}
