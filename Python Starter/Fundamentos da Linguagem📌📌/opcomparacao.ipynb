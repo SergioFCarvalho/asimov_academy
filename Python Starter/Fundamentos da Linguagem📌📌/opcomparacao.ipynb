{
 "cells": [
  {
   "cell_type": "markdown",
   "id": "de854bbb-780d-4339-8da5-2ac277ba21b3",
   "metadata": {},
   "source": [
    "## Operadores de comparação"
   ]
  },
  {
   "cell_type": "code",
   "execution_count": 2,
   "id": "9381e6bc-d3cc-451c-a0b5-cc9dd417a363",
   "metadata": {},
   "outputs": [
    {
     "data": {
      "text/plain": [
       "False"
      ]
     },
     "execution_count": 2,
     "metadata": {},
     "output_type": "execute_result"
    }
   ],
   "source": [
    "# ex \n",
    "1 > 2 > 3 "
   ]
  },
  {
   "cell_type": "code",
   "execution_count": 3,
   "id": "b2aeecd3-dc1e-4e41-ab86-dfbf9ef7f639",
   "metadata": {},
   "outputs": [
    {
     "data": {
      "text/plain": [
       "False"
      ]
     },
     "execution_count": 3,
     "metadata": {},
     "output_type": "execute_result"
    }
   ],
   "source": [
    "1 < 2 > 3 "
   ]
  },
  {
   "cell_type": "code",
   "execution_count": 4,
   "id": "626d7310-051e-4593-b7fd-2618ef54028c",
   "metadata": {},
   "outputs": [
    {
     "data": {
      "text/plain": [
       "True"
      ]
     },
     "execution_count": 4,
     "metadata": {},
     "output_type": "execute_result"
    }
   ],
   "source": [
    "1 < 2 and 3 > 2"
   ]
  },
  {
   "cell_type": "code",
   "execution_count": 5,
   "id": "972746b4-4dbf-421e-9314-431b16d339ea",
   "metadata": {},
   "outputs": [
    {
     "data": {
      "text/plain": [
       "True"
      ]
     },
     "execution_count": 5,
     "metadata": {},
     "output_type": "execute_result"
    }
   ],
   "source": [
    "# and - (e) as duas condições tem que ser verdadeiras \n",
    "1 < 2 and 5 > 2 "
   ]
  },
  {
   "cell_type": "code",
   "execution_count": 6,
   "id": "7f4691e2-5760-43f7-9cf7-2a0ddeac1584",
   "metadata": {},
   "outputs": [
    {
     "data": {
      "text/plain": [
       "True"
      ]
     },
     "execution_count": 6,
     "metadata": {},
     "output_type": "execute_result"
    }
   ],
   "source": [
    "# or - (ou) uma ou outra basta apenas uma ser True\n",
    "1<2 or 5 > 9"
   ]
  },
  {
   "cell_type": "code",
   "execution_count": null,
   "id": "58b88e0d-961b-473b-b63d-91be99a13e4c",
   "metadata": {},
   "outputs": [],
   "source": []
  }
 ],
 "metadata": {
  "kernelspec": {
   "display_name": "Python 3 (ipykernel)",
   "language": "python",
   "name": "python3"
  },
  "language_info": {
   "codemirror_mode": {
    "name": "ipython",
    "version": 3
   },
   "file_extension": ".py",
   "mimetype": "text/x-python",
   "name": "python",
   "nbconvert_exporter": "python",
   "pygments_lexer": "ipython3",
   "version": "3.9.12"
  }
 },
 "nbformat": 4,
 "nbformat_minor": 5
}
