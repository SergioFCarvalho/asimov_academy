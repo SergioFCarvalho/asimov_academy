{
 "cells": [
  {
   "cell_type": "markdown",
   "id": "cb2c71a1-ec72-4710-a7d6-0a288e333897",
   "metadata": {},
   "source": [
    "Igualdade == "
   ]
  },
  {
   "cell_type": "code",
   "execution_count": 1,
   "id": "51bebfd6-bde8-401d-8631-d2a92928ebe8",
   "metadata": {},
   "outputs": [
    {
     "data": {
      "text/plain": [
       "True"
      ]
     },
     "execution_count": 1,
     "metadata": {},
     "output_type": "execute_result"
    }
   ],
   "source": [
    "2 == 2 "
   ]
  },
  {
   "cell_type": "code",
   "execution_count": 2,
   "id": "7dfdfab8-5ecf-4df2-9dce-1e5a94b59d49",
   "metadata": {},
   "outputs": [
    {
     "data": {
      "text/plain": [
       "False"
      ]
     },
     "execution_count": 2,
     "metadata": {},
     "output_type": "execute_result"
    }
   ],
   "source": [
    "3 == 1 "
   ]
  },
  {
   "cell_type": "markdown",
   "id": "0ec7eece-c29b-4e60-a911-e004b3433371",
   "metadata": {},
   "source": [
    "Desigualdade (!=) "
   ]
  },
  {
   "cell_type": "code",
   "execution_count": 3,
   "id": "93e35a84-f136-4b35-afdc-4538107bfd66",
   "metadata": {},
   "outputs": [
    {
     "data": {
      "text/plain": [
       "True"
      ]
     },
     "execution_count": 3,
     "metadata": {},
     "output_type": "execute_result"
    }
   ],
   "source": [
    "2 != 1 "
   ]
  },
  {
   "cell_type": "code",
   "execution_count": 4,
   "id": "14b68c3e-0896-47d6-ba2c-97844d8ebbb6",
   "metadata": {},
   "outputs": [
    {
     "data": {
      "text/plain": [
       "False"
      ]
     },
     "execution_count": 4,
     "metadata": {},
     "output_type": "execute_result"
    }
   ],
   "source": [
    "5 != 5 "
   ]
  },
  {
   "cell_type": "code",
   "execution_count": 5,
   "id": "49d5e959-e459-46d4-be24-8a236c685d2d",
   "metadata": {},
   "outputs": [
    {
     "data": {
      "text/plain": [
       "True"
      ]
     },
     "execution_count": 5,
     "metadata": {},
     "output_type": "execute_result"
    }
   ],
   "source": [
    "'Hoje' != 'hoje'"
   ]
  },
  {
   "cell_type": "code",
   "execution_count": 7,
   "id": "efcbdf41-f789-4427-b9c9-40f60bdca2f5",
   "metadata": {},
   "outputs": [
    {
     "data": {
      "text/plain": [
       "True"
      ]
     },
     "execution_count": 7,
     "metadata": {},
     "output_type": "execute_result"
    }
   ],
   "source": [
    " 1 != 3 "
   ]
  },
  {
   "cell_type": "markdown",
   "id": "a50c7a62-6e95-4620-8d58-e0e862c157b5",
   "metadata": {},
   "source": [
    "Maior que > / Menor que > / Maior igual a que >= / Menor igual a que <="
   ]
  },
  {
   "cell_type": "code",
   "execution_count": 8,
   "id": "81276ca2-56cf-4979-b95e-71098994fe8f",
   "metadata": {},
   "outputs": [
    {
     "data": {
      "text/plain": [
       "False"
      ]
     },
     "execution_count": 8,
     "metadata": {},
     "output_type": "execute_result"
    }
   ],
   "source": [
    "2 > 3 "
   ]
  },
  {
   "cell_type": "code",
   "execution_count": 9,
   "id": "25792bc5-93e0-4f2d-96d0-04a842c04a6e",
   "metadata": {},
   "outputs": [
    {
     "data": {
      "text/plain": [
       "True"
      ]
     },
     "execution_count": 9,
     "metadata": {},
     "output_type": "execute_result"
    }
   ],
   "source": [
    "4 > 1"
   ]
  },
  {
   "cell_type": "code",
   "execution_count": 10,
   "id": "eab79652-e079-4862-9dc3-1f8ced035635",
   "metadata": {},
   "outputs": [
    {
     "data": {
      "text/plain": [
       "True"
      ]
     },
     "execution_count": 10,
     "metadata": {},
     "output_type": "execute_result"
    }
   ],
   "source": [
    "1 < 3 "
   ]
  },
  {
   "cell_type": "code",
   "execution_count": 11,
   "id": "2d35485f-2926-4f0b-85ad-ea53da52188e",
   "metadata": {},
   "outputs": [
    {
     "data": {
      "text/plain": [
       "True"
      ]
     },
     "execution_count": 11,
     "metadata": {},
     "output_type": "execute_result"
    }
   ],
   "source": [
    "2 >= 2 "
   ]
  },
  {
   "cell_type": "code",
   "execution_count": 12,
   "id": "f9caf4d5-41fd-43f5-a6b4-134950b6c185",
   "metadata": {},
   "outputs": [
    {
     "data": {
      "text/plain": [
       "False"
      ]
     },
     "execution_count": 12,
     "metadata": {},
     "output_type": "execute_result"
    }
   ],
   "source": [
    "9 <= 3"
   ]
  },
  {
   "cell_type": "code",
   "execution_count": 14,
   "id": "84d6991f-310b-414c-98ab-6bcee9056312",
   "metadata": {},
   "outputs": [
    {
     "data": {
      "text/plain": [
       "True"
      ]
     },
     "execution_count": 14,
     "metadata": {},
     "output_type": "execute_result"
    }
   ],
   "source": [
    "156 >= 100"
   ]
  },
  {
   "cell_type": "code",
   "execution_count": null,
   "id": "36fe8a9a-1f30-482b-b95a-d39350b1ca44",
   "metadata": {},
   "outputs": [],
   "source": []
  }
 ],
 "metadata": {
  "kernelspec": {
   "display_name": "Python 3 (ipykernel)",
   "language": "python",
   "name": "python3"
  },
  "language_info": {
   "codemirror_mode": {
    "name": "ipython",
    "version": 3
   },
   "file_extension": ".py",
   "mimetype": "text/x-python",
   "name": "python",
   "nbconvert_exporter": "python",
   "pygments_lexer": "ipython3",
   "version": "3.9.12"
  }
 },
 "nbformat": 4,
 "nbformat_minor": 5
}
