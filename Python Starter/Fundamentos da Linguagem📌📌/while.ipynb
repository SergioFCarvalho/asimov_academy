{
 "cells": [
  {
   "cell_type": "markdown",
   "id": "f4fc74ea-8ab9-4d87-b2e7-781355ad7466",
   "metadata": {},
   "source": [
    "## while"
   ]
  },
  {
   "cell_type": "code",
   "execution_count": 1,
   "id": "c2cf66b6-29e4-416b-9ed1-c6a1fb6c933a",
   "metadata": {
    "scrolled": true,
    "tags": []
   },
   "outputs": [
    {
     "name": "stdout",
     "output_type": "stream",
     "text": [
      "O valor de x é 0.\n",
      "O valor de x é 1.\n",
      "O valor de x é 2.\n",
      "O valor de x é 3.\n",
      "O valor de x é 4.\n",
      "O valor de x é 5.\n",
      "O valor de x é 6.\n",
      "O valor de x é 7.\n",
      "O valor de x é 8.\n",
      "O valor de x é 9.\n"
     ]
    }
   ],
   "source": [
    "x = 0\n",
    "\n",
    "while x < 10:\n",
    "    print(\"O valor de x é {}.\".format(x))\n",
    "    x += 1 # x = x + 1\n"
   ]
  },
  {
   "cell_type": "code",
   "execution_count": 3,
   "id": "7ff874f4-0707-4286-9feb-78f0025df4e9",
   "metadata": {},
   "outputs": [
    {
     "name": "stdout",
     "output_type": "stream",
     "text": [
      "O valor de x é: 0\n",
      "x ainda é menor que 10. Incrementando...\n",
      "O valor de x é: 1\n",
      "x ainda é menor que 10. Incrementando...\n",
      "O valor de x é: 2\n",
      "x ainda é menor que 10. Incrementando...\n",
      "O valor de x é: 3\n",
      "x ainda é menor que 10. Incrementando...\n",
      "O valor de x é: 4\n",
      "x ainda é menor que 10. Incrementando...\n",
      "O valor de x é: 5\n",
      "x ainda é menor que 10. Incrementando...\n",
      "O valor de x é: 6\n",
      "x ainda é menor que 10. Incrementando...\n",
      "O valor de x é: 7\n",
      "x ainda é menor que 10. Incrementando...\n",
      "O valor de x é: 8\n",
      "x ainda é menor que 10. Incrementando...\n",
      "O valor de x é: 9\n",
      "x ainda é menor que 10. Incrementando...\n",
      "Concluído...\n"
     ]
    }
   ],
   "source": [
    "x = 0 \n",
    "\n",
    "while x < 10:\n",
    "    print(f'O valor de x é: {x}')\n",
    "    print(\"x ainda é menor que 10. Incrementando...\")\n",
    "    x += 1\n",
    "else:\n",
    "    print('Concluído...')"
   ]
  },
  {
   "cell_type": "code",
   "execution_count": null,
   "id": "9a6d255e-2385-4ab9-ab3d-47c3eb6eb0fc",
   "metadata": {},
   "outputs": [],
   "source": []
  }
 ],
 "metadata": {
  "kernelspec": {
   "display_name": "Python 3 (ipykernel)",
   "language": "python",
   "name": "python3"
  },
  "language_info": {
   "codemirror_mode": {
    "name": "ipython",
    "version": 3
   },
   "file_extension": ".py",
   "mimetype": "text/x-python",
   "name": "python",
   "nbconvert_exporter": "python",
   "pygments_lexer": "ipython3",
   "version": "3.9.12"
  }
 },
 "nbformat": 4,
 "nbformat_minor": 5
}
